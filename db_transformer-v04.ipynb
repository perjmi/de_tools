{
 "cells": [
  {
   "cell_type": "markdown",
   "id": "99c7db14",
   "metadata": {},
   "source": [
    "# DB transformer"
   ]
  },
  {
   "cell_type": "markdown",
   "id": "71604e9d",
   "metadata": {},
   "source": [
    "First set establish a postgres and install the dvdschema to it. This can be done using the following commands:"
   ]
  },
  {
   "cell_type": "markdown",
   "id": "ba587e17",
   "metadata": {},
   "source": [
    "docker run --name some-postgres --rm -p 5432:5432 -e POSTGRES_HOST_AUTH_METHOD=trust -d postgres:12.15\n",
    "    \n",
    "docker exec some-postgres apt update -y\n",
    "\n",
    "docker exec some-postgres apt install wget unzip -y\n",
    "\n",
    "docker exec some-postgres wget https://www.postgresqltutorial.com/wp-content/uploads/2019/05/dvdrental.zip\n",
    "\n",
    "docker exec some-postgres unzip dvdrental.zip\n",
    "\n",
    "docker exec some-postgres psql -U postgres -c \"CREATE DATABASE dvdrental;\"\n",
    "\n",
    "docker exec -i some-postgres pg_restore -U postgres -d dvdrental dvdrental.tar\n",
    "\n",
    "docker exec some-postgres psql -U postgres -d dvdrental -c \"create schema target;\"\n"
   ]
  },
  {
   "cell_type": "code",
   "execution_count": null,
   "id": "2c554cc6",
   "metadata": {},
   "outputs": [],
   "source": [
    "!apt update -y -q\n",
    "!apt install build-essential libpq-dev graphviz graphviz-dev -y\n",
    "!pip install psycopg2\n",
    "!pip install eralchemy2\n",
    "!pip install graphviz\n",
    "!pip install openai"
   ]
  },
  {
   "cell_type": "code",
   "execution_count": null,
   "id": "13186ab0",
   "metadata": {},
   "outputs": [],
   "source": [
    "from eralchemy2 import render_er\n",
    "\n",
    "## Draw from Postgres database\n",
    "render_er(\"postgresql+psycopg2://postgres@0.0.0.0:5432/dvdrental\", 'erd_from_postgres.png')\n"
   ]
  },
  {
   "cell_type": "code",
   "execution_count": null,
   "id": "b03702ba",
   "metadata": {},
   "outputs": [],
   "source": [
    "from PIL import Image\n",
    "import numpy as np\n",
    "import matplotlib.pyplot as plt\n",
    "\n",
    "img = np.asarray(Image.open('erd_from_postgres.png'))\n",
    "plt.rcParams[\"figure.figsize\"] = (15, 10)\n",
    "plt.imshow(img)\n",
    "plt.show()\n"
   ]
  },
  {
   "cell_type": "code",
   "execution_count": null,
   "id": "8840184d",
   "metadata": {},
   "outputs": [],
   "source": [
    "conn.close()"
   ]
  },
  {
   "cell_type": "code",
   "execution_count": null,
   "id": "b3215c43",
   "metadata": {},
   "outputs": [],
   "source": [
    "import psycopg2\n",
    "conn = psycopg2.connect(\"host=0.0.0.0 dbname=dvdrental user=postgres\")\n",
    "cur = conn.cursor()\n"
   ]
  },
  {
   "cell_type": "code",
   "execution_count": null,
   "id": "4ef690b6",
   "metadata": {},
   "outputs": [],
   "source": [
    "from flask import request\n",
    "import openai\n",
    "openai.api_key=\"\""
   ]
  },
  {
   "cell_type": "code",
   "execution_count": null,
   "id": "73de89f1",
   "metadata": {},
   "outputs": [],
   "source": [
    "columnmaps={}\n",
    "columnmaps['target.info.email']='public.customer.email'\n",
    "columnmaps['target.info.address']='public.address.address'\n",
    "\n",
    "columnmaps['target.movie.title']='public.film.title'\n",
    "columnmaps['target.movie.category']='public.category.name'\n",
    "columnmaps['target.movie.language']='public.language.name'\n",
    "columnmaps['target.movie.rental_date']='public.rental.rental_date'\n",
    "\n",
    "columnmaps['target.sales.logon']='public.staff.username'\n",
    "columnmaps['target.sales.first_name']='public.staff.first_name'\n",
    "columnmaps['target.sales.store_id']='public.staff.store_id'\n",
    "\n",
    "keymaps={}\n",
    "keymaps['target.salesxmovie']={'movie_id':'target.movie.movie_id','sales_id':'target.sales.sales_id'}\n",
    "\n",
    "constraints={}\n",
    "constraints['target.salesxmovie.movie_id']='target.movie.movie_id'\n",
    "constraints['target.salesxmovie.sales_id']='target.sales.sales_id'\n",
    "constraints['target.info.info_id']='target.movie.movie_id'\n"
   ]
  },
  {
   "cell_type": "code",
   "execution_count": null,
   "id": "6d633252",
   "metadata": {},
   "outputs": [],
   "source": [
    "def gettype(schema,table,column):\n",
    "    sql=\"select data_type from information_schema.columns where table_schema='\"+schema+\"' and table_name='\"\\\n",
    "    +table+\"' and column_name='\"+column+\"';\"\n",
    "    cur.execute(sql)\n",
    "    a=cur.fetchall()\n",
    "    return a[0][0]"
   ]
  },
  {
   "cell_type": "code",
   "execution_count": null,
   "id": "0587ca0a",
   "metadata": {},
   "outputs": [],
   "source": [
    "def buildtable(schema,table,columns,types):\n",
    "    sql=\"create table \"+schema+\".\"+table+\"(\"\n",
    "    for i in range(len(columns)):\n",
    "        column=columns[i]\n",
    "        typ=types[i]\n",
    "        sql=sql+\" \"+column+\" \"+typ+\" NOT NULL,\"\n",
    "    sql=sql+\" \"+table+\"_id INTEGER PRIMARY KEY);\"\n",
    "    return sql\n"
   ]
  },
  {
   "cell_type": "code",
   "execution_count": null,
   "id": "71660fb3",
   "metadata": {},
   "outputs": [],
   "source": [
    "def createtargetbymap(columnmaps,keymaps,constraints):\n",
    "    targetmeta={}\n",
    "    for k in columnmaps.keys():\n",
    "        targetschema=k.split(\".\")[0]\n",
    "        targettable=k.split(\".\")[1]\n",
    "        targetcolumn=k.split(\".\")[2]\n",
    "        l=columnmaps[k]\n",
    "        sourceschema=l.split(\".\")[0]\n",
    "        sourcetable=l.split(\".\")[1]\n",
    "        sourcecolumn=l.split(\".\")[2]\n",
    "\n",
    "        if targettable not in targetmeta.keys():\n",
    "            targetmeta[targettable]={'columns':[],'types':[]}\n",
    "        if targettable in targetmeta.keys():\n",
    "            targetmeta[targettable]['columns'].append(targetcolumn)\n",
    "            targettype=gettype(sourceschema,sourcetable,sourcecolumn)\n",
    "            targetmeta[targettable]['types'].append(targettype)\n",
    "\n",
    "    sql = \"DROP SCHEMA IF EXISTS \"+targetschema+\" CASCADE;\"\n",
    "    try:\n",
    "        cur.execute(sql)\n",
    "    except Exception as err:\n",
    "        print(err)\n",
    "        er=err\n",
    "    conn.commit()\n",
    "\n",
    "    sql = \"CREATE SCHEMA \"+targetschema+\";\"\n",
    "    try:\n",
    "        cur.execute(sql)\n",
    "    except Exception as err:\n",
    "        print(err)\n",
    "        er=err\n",
    "    conn.commit()\n",
    "\n",
    "    targettables=[]\n",
    "    for targettable in targetmeta.keys():\n",
    "        targettables.append(targettable)\n",
    "        sql=buildtable(targetschema,targettable,targetmeta[targettable]['columns'],targetmeta[targettable]['types'])\n",
    "        cur.execute(sql)\n",
    "        conn.commit()\n",
    "        \n",
    "    for k in keymaps.keys():\n",
    "        targetschema=k.split(\".\")[0]\n",
    "        targettable=k.split(\".\")[1]            \n",
    "        columns=[]\n",
    "        types=[]\n",
    "        for l in keymaps[k].keys():\n",
    "            tschema=keymaps[k][l].split(\".\")[0]\n",
    "            ttable=keymaps[k][l].split(\".\")[1]\n",
    "            tcolumn=keymaps[k][l].split(\".\")[2]\n",
    "            ttype=gettype(tschema,ttable,tcolumn)\n",
    "            columns.append(tcolumn)\n",
    "            types.append(ttype)\n",
    "        if targettable not in targettables:\n",
    "            sql=buildtable(targetschema,targettable,columns,types)\n",
    "            #print(sql)\n",
    "            cur.execute(sql)\n",
    "            conn.commit()\n",
    "            \n",
    "    #Now alter for constraints\n",
    "    for k in constraints.keys():\n",
    "        fschema=k.split(\".\")[0]\n",
    "        ftable=k.split(\".\")[1]\n",
    "        fcolumn=k.split(\".\")[2]\n",
    "        l=constraints[k]\n",
    "        tschema=l.split(\".\")[0]\n",
    "        ttable=l.split(\".\")[1]\n",
    "        tcolumn=l.split(\".\")[2]\n",
    "\n",
    "        sql=\"alter table \"+fschema+\".\"+ftable + \" add constraint fk_\"+ftable+\"_\"+ttable+\" foreign key (\"+fcolumn+\") references \"\\\n",
    "        + tschema +\".\"+ttable+\"(\"+tcolumn+\");\"\n",
    "        #print(sql)\n",
    "        cur.execute(sql)\n",
    "        conn.commit()"
   ]
  },
  {
   "cell_type": "code",
   "execution_count": null,
   "id": "b0deb895",
   "metadata": {},
   "outputs": [],
   "source": [
    "createtargetbymap(columnmaps,keymaps,constraints)"
   ]
  },
  {
   "cell_type": "code",
   "execution_count": null,
   "id": "e2ef4f4a",
   "metadata": {},
   "outputs": [],
   "source": [
    "import os\n",
    "def givetabledef(schema,table):\n",
    "    com=\"pg_dump -U postgres --schema-only -h 0.0.0.0 dvdrental -t '\"+schema+\".\"+table+\"' > dump.sql\"\n",
    "    os.system(com)\n",
    "    flag=False\n",
    "    with open('dump.sql', 'r') as f:\n",
    "        lines = f.readlines()\n",
    "    result=[]\n",
    "    for line in lines:\n",
    "        if ('CREATE' in line) or ('ALTER' in line):\n",
    "            flag=True\n",
    "        if flag:\n",
    "            result.append(line)\n",
    "        if flag and ';' in line:\n",
    "            flag=False\n",
    "    return result"
   ]
  },
  {
   "cell_type": "code",
   "execution_count": null,
   "id": "f4dcfb7d",
   "metadata": {},
   "outputs": [],
   "source": [
    "def givetableconstraints(schema,table):\n",
    "    com=\"pg_dump -U postgres --schema-only -h 0.0.0.0 dvdrental -t '\"+schema+\".\"+table+\"' > dump.sql\"\n",
    "    os.system(com)\n",
    "    flag=False\n",
    "    with open('dump.sql', 'r') as f:\n",
    "        lines = f.readlines()\n",
    "    result=[]\n",
    "    for line in lines:\n",
    "        if  ('ALTER' in line):\n",
    "            if not ('OWNER TO postgres' in line):\n",
    "                flag=True\n",
    "        if flag:\n",
    "            result.append(line)\n",
    "        if flag and ';' in line:\n",
    "            flag=False\n",
    "    return result"
   ]
  },
  {
   "cell_type": "code",
   "execution_count": null,
   "id": "9ee341a9",
   "metadata": {},
   "outputs": [],
   "source": [
    "givetableconstraints('public','address')"
   ]
  },
  {
   "cell_type": "code",
   "execution_count": null,
   "id": "0828e5c0",
   "metadata": {},
   "outputs": [],
   "source": [
    "givetableconstraints('target','movie')"
   ]
  },
  {
   "cell_type": "code",
   "execution_count": null,
   "id": "dd2a8a86",
   "metadata": {},
   "outputs": [],
   "source": [
    "import random\n",
    "import string\n",
    "\n",
    "def generate_random_string(length):\n",
    "    letters = string.ascii_letters\n",
    "    return (''.join(random.choice(letters) for i in range(length))).lower()\n",
    "\n",
    "random_string = generate_random_string(10)\n",
    "print(random_string)\n"
   ]
  },
  {
   "cell_type": "code",
   "execution_count": null,
   "id": "3067fd61",
   "metadata": {},
   "outputs": [],
   "source": [
    "def getexampledata(schema,table,column=\"*\"):\n",
    "    sql=\"select \"+column+\" from \"+schema+\".\"+table+\" limit 10\";\n",
    "    #print(sql)\n",
    "    cur.execute(sql)\n",
    "    res=cur.fetchall()\n",
    "    #print(res)\n",
    "    results=[]\n",
    "    for r in res:\n",
    "        results.append(str(r[1:]))\n",
    "    return(results)\n"
   ]
  },
  {
   "cell_type": "code",
   "execution_count": null,
   "id": "89b0ed6c",
   "metadata": {},
   "outputs": [],
   "source": [
    "getexampledata('public','address')"
   ]
  },
  {
   "cell_type": "code",
   "execution_count": null,
   "id": "e685fc1f",
   "metadata": {},
   "outputs": [],
   "source": [
    "def ddlemb(schema):\n",
    "    #schema='public'\n",
    "    sql=\"SELECT table_name FROM information_schema.tables WHERE table_schema = '\"+schema+\"' ORDER BY table_name;\"\n",
    "    cur.execute(sql)\n",
    "    res=cur.fetchall()\n",
    "\n",
    "\n",
    "    MODEL = \"text-embedding-ada-002\"\n",
    "\n",
    "    #res\n",
    "    #cosine = np.dot(A,B)/(norm(A)*norm(B))\n",
    "\n",
    "    emb={}\n",
    "    for a in res:\n",
    "        #s=givetabledef(schema,a[0])\n",
    "        s=givetableconstraints(schema,a[0])\n",
    "        r = openai.Embedding.create(input=[''.join(s)], engine=MODEL)\n",
    "        emb[a[0]]=r['data'][0]['embedding']\n",
    "    return emb\n",
    "    \n"
   ]
  },
  {
   "cell_type": "markdown",
   "id": "9449cee3",
   "metadata": {},
   "source": [
    "sql=\"SELECT con.* \\\n",
    "FROM pg_catalog.pg_constraint con \\\n",
    "INNER JOIN pg_catalog.pg_class rel \\\n",
    "ON rel.oid = con.conrelid \\\n",
    "INNER JOIN pg_catalog.pg_namespace nsp \\\n",
    "ON nsp.oid = connamespace \\\n",
    "WHERE nsp.nspname = 'public' \\\n",
    "AND rel.relname = 'address';\"\n",
    "\n",
    "cur.execute(sql)\n",
    "a=cur.fetchall()\n",
    "a\n"
   ]
  },
  {
   "cell_type": "code",
   "execution_count": null,
   "id": "edc35f63",
   "metadata": {},
   "outputs": [],
   "source": [
    "givetabledef('public','address')"
   ]
  },
  {
   "cell_type": "code",
   "execution_count": null,
   "id": "c6afd008",
   "metadata": {},
   "outputs": [],
   "source": [
    "import re\n",
    "\n",
    "class Prompt():\n",
    "    def __init__(self,sourceschema,targetschema,targettable,columnmappings):\n",
    "        self.sourcetables=[]\n",
    "        self.sourceschema=sourceschema\n",
    "        self.targetschema=targetschema\n",
    "        self.targettable=targettable\n",
    "        self.columnmappings=columnmappings\n",
    "        self.messages=[]\n",
    "        #self.ddlemb=ddlemb(self.sourceschema)\n",
    "\n",
    "\n",
    "    def initialmessage(self):\n",
    "        prompt={\n",
    "          \"role\": \"system\",\n",
    "          \"content\": \"Generate sql statements in a separate sql code block.\"\n",
    "        }\n",
    "        self.messages.append(prompt)\n",
    "\n",
    "        prompt={\n",
    "          \"role\": \"system\",\n",
    "          \"content\": \"You are a developer writing SQL queries.\"\n",
    "        }\n",
    "        self.messages.append(prompt)\n",
    "        \n",
    "        s=givetabledef(self.targetschema,self.targettable)\n",
    "        prompt={\n",
    "        \"role\":\"user\",\n",
    "        \"content\":''.join(s)\n",
    "        }\n",
    "        #self.messages.append(prompt)   \n",
    "        \n",
    "    def ask4info(self):\n",
    "        prompt={\n",
    "          \"role\": \"system\",\n",
    "          \"content\": \"Your job is to move data from the schema public to the schema target.\" +\\\n",
    "            \"Generate one sql statement which will give you some foreign key constraints.\"+\\\n",
    "            \"You can querythe database pg_constraint and pg_attribute and use \" +\\\n",
    "            \" pg_get_constraintdef toward that task. You should limit the statement to the one \"+\\\n",
    "            \"schema and the one table that you think matters the most. Only return unique constraints \"+\\\n",
    "            \"and return the schema in the DDL.\"\n",
    "        }\n",
    "        self.messages.append(prompt)\n",
    "        \n",
    "    def ask4info(self):\n",
    "        prompt={\n",
    "          \"role\": \"system\",\n",
    "          \"content\": \"Your job is to move data from the schema public to the schema target.\" +\\\n",
    "            \"Give a pair ('schema','table') for which the DDL of the schema.table will help you\"\n",
    "        }\n",
    "        self.messages.append(prompt)\n",
    "        \n",
    "    def ask4solution(self):\n",
    "        prompt={\n",
    "          \"role\": \"system\",\n",
    "          \"content\": \"Your job is to move data from the schema public to the schema target.\" +\\\n",
    "            \"Generate one sql statement which will do that, mapping the columns as described.\"\n",
    "        }\n",
    "        self.messages.append(prompt)\n",
    "\n",
    "    def addmappings(self):\n",
    "        prompt={\n",
    "          \"role\": \"user\",\n",
    "          \"content\": \"Mappings between some of the \"+self.sourceschema+\" columns and columns in \"+self.targetschema+\".\"+self.targettable+\" are:\"\n",
    "        } \n",
    "        self.messages.append(prompt)\n",
    "        for k in self.columnmappings.keys():\n",
    "            targetschema=k.split(\".\")[0]\n",
    "            targettable=k.split(\".\")[1]\n",
    "            targetcolumn=k.split(\".\")[2]\n",
    "            #if targetschema==self.targetschema:\n",
    "                #if targettable==self.targettable:\n",
    "            prompt={\n",
    "              \"role\": \"user\",\n",
    "              \"content\": k+\":\"+self.columnmappings[k]\n",
    "            } \n",
    "            self.messages.append(prompt)\n",
    "            \n",
    "    def addddl(self,list_text):\n",
    "        for schema,tab in list_text:\n",
    "            prompt={\n",
    "            \"role\":\"user\",\n",
    "            \"content\":\"Table \"+schema+\".\"+tab+\" has DDL:\"\n",
    "            }\n",
    "            self.messages.append(prompt)\n",
    "            s=givetabledef(self.sourceschema,tab)\n",
    "            prompt={\n",
    "            \"role\":\"user\",\n",
    "            \"content\":''.join(s)\n",
    "            }\n",
    "            self.messages.append(prompt)\n",
    "                    \n",
    "    def extractsql(self,text):\n",
    "        match = re.search(r\"```sql([\\s\\S]*?)```\", text,re.IGNORECASE) \n",
    "        sql = \"\"\n",
    "        if match: \n",
    "            sql = match.group(1) \n",
    "        return(sql)\n",
    "    \n",
    "    def getreply(self,messages=None):\n",
    "        if messages is None:\n",
    "            messages=self.messages\n",
    "        r=openai.ChatCompletion.create(\n",
    "          #model=\"gpt-3.5-turbo-16k\",\n",
    "          model=\"gpt-4\",\n",
    "          #model=\"gpt-4-32k\",\n",
    "          messages=messages\n",
    "        )\n",
    "        #print(self.messages)\n",
    "        print(r)\n",
    "        text=r['choices'][0]['message']['content']\n",
    "        return(text)\n",
    "    \n",
    "    def testsql(self,sql,depth=1):\n",
    "        createtargetbymap(columnmaps,keymaps,constraints)\n",
    "        row_text=\"\"\n",
    "        if depth>0:\n",
    "            try:\n",
    "                cur.execute(sql)\n",
    "                res=cur.fetchall()\n",
    "                # Fetch the results as text\n",
    "                row_text=\"\"\n",
    "                for row in res:\n",
    "                    row_text = row_text+\"\\n\"+','.join(map(str, row))\n",
    "\n",
    "            except Exception as err:\n",
    "                conn.rollback()\n",
    "                print(err)\n",
    "                er=str(err)\n",
    "                if depth>2:\n",
    "                    text=self.fixsql(sql,err)\n",
    "                    sql=self.extractsql(text)\n",
    "                    print(\"new sql is \"+sql)\n",
    "                    self.testsql(sql,depth=depth-1)\n",
    "        conn.commit()\n",
    "        return row_text\n",
    "    \n",
    "    def fixsql(self,sql,err):\n",
    "        prompt={\n",
    "            \"role\":\"user\",\n",
    "            \"content\":\"The sqlstatement \"+sql + \" gave the error: \"+er+\". Can you correct the sqlstatement?\"\n",
    "        }\n",
    "        text=self.getreply(self,messages=[prompt])\n",
    "        return text\n",
    "    \n",
    "    def addsqlandanswer(self,sql):\n",
    "        row_text=self.testsql(sql)\n",
    "        if row_text!=\"\":\n",
    "            prompt={\"role\":\"user\",\n",
    "            \"content\":\"The sqlstatement \"+sql+\" reached the following answer \"+ row_text}\n",
    "            self.messages.append(prompt)\n",
    "            self.interactions.append(row_text)\n",
    "\n",
    "    \n",
    "    def buildsqlquestion(self):\n",
    "        self.messages=[]\n",
    "        self.initialmessage()\n",
    "        self.addmappings()\n",
    "            \n",
    "    def buildsql(self):\n",
    "        #print(self.messages)\n",
    "        self.buildsqlquestion()\n",
    "        for j in range(2):\n",
    "            r=self.getreply()\n",
    "            print(\"------------------\")\n",
    "            pprint(r)\n",
    "            print(\"------------------\")\n",
    "            sql=self.extractsql(r)\n",
    "            print(\"------------------\")\n",
    "            print(sql)\n",
    "            print(\"------------------\")\n",
    "            prompt={\"role\":\"user\",\n",
    "           \"content\":\"You answered with this sql:\"+sql}\n",
    "            self.messages.append(prompt)\n",
    "            text=self.testsql(sql)\n",
    "            prompt={\"role\":\"user\",\n",
    "           \"content\":\"Which gave this answer:\"+text}\n",
    "            self.messages.append(prompt)\n",
    "        return None\n",
    "    \n"
   ]
  },
  {
   "cell_type": "code",
   "execution_count": null,
   "id": "1c8ce9fa",
   "metadata": {},
   "outputs": [],
   "source": [
    "columnmaps={}\n",
    "columnmaps['target.info.email']='public.customer.email'\n",
    "columnmaps['target.info.address']='public.address.address'\n",
    "\n",
    "columnmaps['target.movie.title']='public.film.title'\n",
    "columnmaps['target.movie.category']='public.category.name'\n",
    "columnmaps['target.movie.language']='public.language.name'\n",
    "columnmaps['target.movie.rental_date']='public.rental.rental_date'\n",
    "\n",
    "columnmaps['target.sales.logon']='public.staff.username'\n",
    "columnmaps['target.sales.first_name']='public.staff.first_name'\n",
    "columnmaps['target.sales.store_id']='public.staff.store_id'\n",
    "\n",
    "keymaps={}\n",
    "keymaps['target.salesxmovie']={'movie_id':'target.movie.movie_id','sales_id':'target.sales.sales_id'}\n",
    "\n",
    "constraints={}\n",
    "constraints['target.salesxmovie.movie_id']='target.movie.movie_id'\n",
    "constraints['target.salesxmovie.sales_id']='target.sales.sales_id'\n",
    "constraints['target.info.info_id']='target.movie.movie_id'\n",
    "\n",
    "createtargetbymap(columnmaps,keymaps,constraints)"
   ]
  },
  {
   "cell_type": "code",
   "execution_count": null,
   "id": "4710ef94",
   "metadata": {},
   "outputs": [],
   "source": [
    "p=Prompt(sourceschema='public',targetschema='target',targettable='info',columnmappings=columnmaps)"
   ]
  },
  {
   "cell_type": "code",
   "execution_count": null,
   "id": "322f089d",
   "metadata": {},
   "outputs": [],
   "source": [
    "p.initialmessage()\n",
    "p.addmappings()\n",
    "p.ask4info()\n",
    "p.messages"
   ]
  },
  {
   "cell_type": "code",
   "execution_count": null,
   "id": "18957d28",
   "metadata": {},
   "outputs": [],
   "source": [
    "text=p.getreply()\n",
    "text=text.replace(\"\\n\",\"\")\n",
    "import ast\n",
    "list_text = ast.literal_eval(text)"
   ]
  },
  {
   "cell_type": "code",
   "execution_count": null,
   "id": "5365f320",
   "metadata": {},
   "outputs": [],
   "source": [
    "list_text"
   ]
  },
  {
   "cell_type": "code",
   "execution_count": null,
   "id": "d41fb708",
   "metadata": {},
   "outputs": [],
   "source": [
    "p.addddl(list_text)"
   ]
  },
  {
   "cell_type": "code",
   "execution_count": null,
   "id": "1ba19489",
   "metadata": {},
   "outputs": [],
   "source": [
    "p.messages"
   ]
  },
  {
   "cell_type": "code",
   "execution_count": null,
   "id": "e6963bbd",
   "metadata": {},
   "outputs": [],
   "source": [
    "p.ask4info()\n"
   ]
  },
  {
   "cell_type": "code",
   "execution_count": null,
   "id": "3ea6957a",
   "metadata": {},
   "outputs": [],
   "source": [
    "p.messages"
   ]
  },
  {
   "cell_type": "code",
   "execution_count": null,
   "id": "65fabcea",
   "metadata": {},
   "outputs": [],
   "source": [
    "text=p.getreply()\n",
    "text=text.replace(\"\\n\",\"\")\n",
    "import ast\n",
    "list_text = ast.literal_eval(text)"
   ]
  },
  {
   "cell_type": "code",
   "execution_count": null,
   "id": "ce827652",
   "metadata": {},
   "outputs": [],
   "source": [
    "list_text"
   ]
  },
  {
   "cell_type": "code",
   "execution_count": null,
   "id": "b95e7988",
   "metadata": {},
   "outputs": [],
   "source": [
    "from pprint import pprint\n",
    "sql=p.extractsql(text)\n",
    "#pprint(text)\n",
    "pprint(sql)\n",
    "#p.messages"
   ]
  },
  {
   "cell_type": "code",
   "execution_count": null,
   "id": "4db83bef",
   "metadata": {},
   "outputs": [],
   "source": [
    "sql"
   ]
  },
  {
   "cell_type": "code",
   "execution_count": null,
   "id": "8c874a97",
   "metadata": {},
   "outputs": [],
   "source": [
    "text=p.testsql(sql,depth=3)\n",
    "print(text)"
   ]
  },
  {
   "cell_type": "code",
   "execution_count": null,
   "id": "cba9198d",
   "metadata": {},
   "outputs": [],
   "source": [
    "p.messages=[]\n",
    "p.initialmessage()\n",
    "p.addmappings()\n",
    "prompt={\n",
    "    \"role\":\"user\",\n",
    "    \"content\":\"Some database information is: \"+''.join(text)}\n",
    "p.messages.append(prompt)\n",
    "p.ask4solution()\n",
    "p.messages"
   ]
  },
  {
   "cell_type": "code",
   "execution_count": null,
   "id": "9f0d69bf",
   "metadata": {},
   "outputs": [],
   "source": [
    "len(str(p.messages))"
   ]
  },
  {
   "cell_type": "code",
   "execution_count": null,
   "id": "60c0f219",
   "metadata": {},
   "outputs": [],
   "source": [
    "text1=p.getreply()"
   ]
  },
  {
   "cell_type": "code",
   "execution_count": null,
   "id": "566f0b37",
   "metadata": {},
   "outputs": [],
   "source": [
    "#sql=\"select * from public.address limit 3;\"\n",
    "\n",
    "sql=\"SELECT con.* \" + \\\n",
    "\"FROM pg_catalog.pg_constraint con \"+ \\\n",
    "\"INNER JOIN pg_catalog.pg_class rel ON rel.oid = con.conrelid \"+ \\\n",
    "\"INNER JOIN pg_catalog.pg_namespace nsp ON nsp.oid = connamespace \"+ \\\n",
    "\"WHERE nsp.nspname = 'public' \"+ \\\n",
    "\"AND rel.relname = 'address'; \"\n",
    "\n",
    "\n",
    "sql=\"SELECT conname AS constraint_name, \"+\\\n",
    "\"       pg_get_constraintdef(c.oid) AS ddl \"+\\\n",
    "\"FROM   pg_constraint c \"+\\\n",
    "\"JOIN   pg_namespace n ON n.oid = c.connamespace \"+\\\n",
    "\"WHERE  conrelid = (\"+\\\n",
    "\"    SELECT oid \"+\\\n",
    "\"    FROM   pg_class cl \"+\\\n",
    "\"    JOIN   pg_namespace ns ON ns.oid = cl.relnamespace\"+\\\n",
    "\"    WHERE  nspname = 'public'\"+\\\n",
    "\"    AND    relname = 'address'\"+\\\n",
    "\");\"\n",
    "\n",
    "cur.execute(sql)\n",
    "res=cur.fetchall()\n"
   ]
  },
  {
   "cell_type": "code",
   "execution_count": null,
   "id": "af442c3d",
   "metadata": {},
   "outputs": [],
   "source": [
    "for r in res:\n",
    "    print(r)"
   ]
  },
  {
   "cell_type": "code",
   "execution_count": null,
   "id": "75aa6bac",
   "metadata": {},
   "outputs": [],
   "source": [
    "p.messages"
   ]
  },
  {
   "cell_type": "code",
   "execution_count": null,
   "id": "81ceac87",
   "metadata": {},
   "outputs": [],
   "source": [
    "p.messages"
   ]
  },
  {
   "cell_type": "code",
   "execution_count": null,
   "id": "ea73d70d",
   "metadata": {},
   "outputs": [],
   "source": [
    "p.ask4solution()"
   ]
  },
  {
   "cell_type": "code",
   "execution_count": null,
   "id": "e0d57692",
   "metadata": {},
   "outputs": [],
   "source": [
    "text=p.getreply()"
   ]
  },
  {
   "cell_type": "code",
   "execution_count": null,
   "id": "f4d43dd4",
   "metadata": {},
   "outputs": [],
   "source": [
    "import re\n",
    "\n",
    "\n",
    "pattern = r\"```sql([\\s\\S]*?)```\"\n",
    "sql_statement = re.search(pattern, text, re.IGNORECASE)\n",
    "\n",
    "if sql_statement:\n",
    "    print(sql_statement.group(1))\n",
    "else:\n",
    "    print(\"No SQL statement found.\")\n",
    "\n"
   ]
  },
  {
   "cell_type": "code",
   "execution_count": null,
   "id": "8dec6ac6",
   "metadata": {},
   "outputs": [],
   "source": [
    "text"
   ]
  },
  {
   "cell_type": "code",
   "execution_count": null,
   "id": "a1ea79de",
   "metadata": {},
   "outputs": [],
   "source": [
    "p.extractsql(r)"
   ]
  },
  {
   "cell_type": "code",
   "execution_count": null,
   "id": "9ad297ad",
   "metadata": {},
   "outputs": [],
   "source": [
    "p.testsql(sql)"
   ]
  },
  {
   "cell_type": "code",
   "execution_count": null,
   "id": "e7108dd6",
   "metadata": {},
   "outputs": [],
   "source": [
    "from pprint import pprint\n",
    "pprint(r)"
   ]
  },
  {
   "cell_type": "code",
   "execution_count": null,
   "id": "8bcb453d",
   "metadata": {},
   "outputs": [],
   "source": [
    "createweirdtarget02(constraint=False)"
   ]
  },
  {
   "cell_type": "code",
   "execution_count": null,
   "id": "5a659f05",
   "metadata": {},
   "outputs": [],
   "source": [
    "p=Prompt(sourceschema='public',targetschema='target',targettable='movie',columnmappings=columnmaps)"
   ]
  },
  {
   "cell_type": "code",
   "execution_count": null,
   "id": "ac7451c2",
   "metadata": {},
   "outputs": [],
   "source": [
    "r=p.buildsql()"
   ]
  },
  {
   "cell_type": "code",
   "execution_count": null,
   "id": "277cd9eb",
   "metadata": {},
   "outputs": [],
   "source": [
    "from pprint import pprint\n",
    "pprint(r)"
   ]
  },
  {
   "cell_type": "code",
   "execution_count": null,
   "id": "2099c2b2",
   "metadata": {},
   "outputs": [],
   "source": [
    "from pprint import pprint\n",
    "pprint(r)"
   ]
  },
  {
   "cell_type": "code",
   "execution_count": null,
   "id": "1ef5c00c",
   "metadata": {},
   "outputs": [],
   "source": [
    "from pprint import pprint\n",
    "pprint(r)"
   ]
  },
  {
   "cell_type": "code",
   "execution_count": null,
   "id": "05108c7f",
   "metadata": {},
   "outputs": [],
   "source": [
    "p.messages"
   ]
  },
  {
   "cell_type": "code",
   "execution_count": null,
   "id": "8d12d8f7",
   "metadata": {},
   "outputs": [],
   "source": [
    "r=openai.ChatCompletion.create(\n",
    "  model=\"gpt-3.5-turbo-16k\",\n",
    "  #model=\"gpt-4\",\n",
    "  messages=p.messages\n",
    ")\n",
    "r\n"
   ]
  },
  {
   "cell_type": "code",
   "execution_count": null,
   "id": "2eb7ee1c",
   "metadata": {},
   "outputs": [],
   "source": [
    "text=r['choices'][0]['message']['content']\n",
    "match = re.search(r\"sql\\n([\\s\\S]*?)```\\n\", text) \n",
    "sql = \"\"\n",
    "if match: \n",
    "    sql = match.group(1) \n"
   ]
  },
  {
   "cell_type": "code",
   "execution_count": null,
   "id": "0a9d31de",
   "metadata": {},
   "outputs": [],
   "source": [
    "sql"
   ]
  },
  {
   "cell_type": "code",
   "execution_count": null,
   "id": "4b8e1694",
   "metadata": {},
   "outputs": [],
   "source": [
    "pprint(sql)"
   ]
  },
  {
   "cell_type": "code",
   "execution_count": null,
   "id": "e2e74385",
   "metadata": {},
   "outputs": [],
   "source": [
    "p.testsql(sql)"
   ]
  },
  {
   "cell_type": "code",
   "execution_count": null,
   "id": "c6da6239",
   "metadata": {},
   "outputs": [],
   "source": []
  }
 ],
 "metadata": {
  "kernelspec": {
   "display_name": "Python 3 (ipykernel)",
   "language": "python",
   "name": "python3"
  },
  "language_info": {
   "codemirror_mode": {
    "name": "ipython",
    "version": 3
   },
   "file_extension": ".py",
   "mimetype": "text/x-python",
   "name": "python",
   "nbconvert_exporter": "python",
   "pygments_lexer": "ipython3",
   "version": "3.8.10"
  }
 },
 "nbformat": 4,
 "nbformat_minor": 5
}
